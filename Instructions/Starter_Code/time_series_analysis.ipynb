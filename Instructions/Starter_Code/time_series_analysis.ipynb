{
 "cells": [
  {
   "cell_type": "code",
   "execution_count": 17,
   "metadata": {},
   "outputs": [],
   "source": [
    "import numpy as np\n",
    "import pandas as pd\n",
    "from pathlib import Path\n",
    "%matplotlib inline\n",
    "\n",
    "import warnings\n",
    "warnings.simplefilter(action='ignore', category=Warning)"
   ]
  },
  {
   "cell_type": "markdown",
   "metadata": {},
   "source": [
    "# Return Forecasting: Time Series Analysis & Modelling with CAD-PHY Exchange rate data.\n",
    "In this notebook, you will load historical Canadian Dollar-Yen exchange rate futures data and apply time series analysis and modeling to determine whether there is any predictable behavior."
   ]
  },
  {
   "cell_type": "code",
   "execution_count": 18,
   "metadata": {},
   "outputs": [
    {
     "data": {
      "text/html": [
       "<div>\n",
       "<style scoped>\n",
       "    .dataframe tbody tr th:only-of-type {\n",
       "        vertical-align: middle;\n",
       "    }\n",
       "\n",
       "    .dataframe tbody tr th {\n",
       "        vertical-align: top;\n",
       "    }\n",
       "\n",
       "    .dataframe thead th {\n",
       "        text-align: right;\n",
       "    }\n",
       "</style>\n",
       "<table border=\"1\" class=\"dataframe\">\n",
       "  <thead>\n",
       "    <tr style=\"text-align: right;\">\n",
       "      <th></th>\n",
       "      <th>Price</th>\n",
       "      <th>Open</th>\n",
       "      <th>High</th>\n",
       "      <th>Low</th>\n",
       "    </tr>\n",
       "    <tr>\n",
       "      <th>Date</th>\n",
       "      <th></th>\n",
       "      <th></th>\n",
       "      <th></th>\n",
       "      <th></th>\n",
       "    </tr>\n",
       "  </thead>\n",
       "  <tbody>\n",
       "    <tr>\n",
       "      <th>1982-01-05</th>\n",
       "      <td>184.65</td>\n",
       "      <td>184.65</td>\n",
       "      <td>184.65</td>\n",
       "      <td>184.65</td>\n",
       "    </tr>\n",
       "    <tr>\n",
       "      <th>1982-01-06</th>\n",
       "      <td>185.06</td>\n",
       "      <td>185.06</td>\n",
       "      <td>185.06</td>\n",
       "      <td>185.06</td>\n",
       "    </tr>\n",
       "    <tr>\n",
       "      <th>1982-01-07</th>\n",
       "      <td>186.88</td>\n",
       "      <td>186.88</td>\n",
       "      <td>186.88</td>\n",
       "      <td>186.88</td>\n",
       "    </tr>\n",
       "    <tr>\n",
       "      <th>1982-01-08</th>\n",
       "      <td>186.58</td>\n",
       "      <td>186.58</td>\n",
       "      <td>186.58</td>\n",
       "      <td>186.58</td>\n",
       "    </tr>\n",
       "    <tr>\n",
       "      <th>1982-01-11</th>\n",
       "      <td>187.64</td>\n",
       "      <td>187.64</td>\n",
       "      <td>187.64</td>\n",
       "      <td>187.64</td>\n",
       "    </tr>\n",
       "  </tbody>\n",
       "</table>\n",
       "</div>"
      ],
      "text/plain": [
       "             Price    Open    High     Low\n",
       "Date                                      \n",
       "1982-01-05  184.65  184.65  184.65  184.65\n",
       "1982-01-06  185.06  185.06  185.06  185.06\n",
       "1982-01-07  186.88  186.88  186.88  186.88\n",
       "1982-01-08  186.58  186.58  186.58  186.58\n",
       "1982-01-11  187.64  187.64  187.64  187.64"
      ]
     },
     "execution_count": 18,
     "metadata": {},
     "output_type": "execute_result"
    }
   ],
   "source": [
    "# Currency pair exchange rates for CAD/JPY\n",
    "cad_jpy_df = pd.read_csv(\n",
    "    Path(\"cad_jpy.csv\"), index_col=\"Date\", infer_datetime_format=True, parse_dates=True\n",
    ")\n",
    "cad_jpy_df.head()"
   ]
  },
  {
   "cell_type": "code",
   "execution_count": 19,
   "metadata": {},
   "outputs": [
    {
     "data": {
      "text/html": [
       "<div>\n",
       "<style scoped>\n",
       "    .dataframe tbody tr th:only-of-type {\n",
       "        vertical-align: middle;\n",
       "    }\n",
       "\n",
       "    .dataframe tbody tr th {\n",
       "        vertical-align: top;\n",
       "    }\n",
       "\n",
       "    .dataframe thead th {\n",
       "        text-align: right;\n",
       "    }\n",
       "</style>\n",
       "<table border=\"1\" class=\"dataframe\">\n",
       "  <thead>\n",
       "    <tr style=\"text-align: right;\">\n",
       "      <th></th>\n",
       "      <th>Price</th>\n",
       "      <th>Open</th>\n",
       "      <th>High</th>\n",
       "      <th>Low</th>\n",
       "    </tr>\n",
       "    <tr>\n",
       "      <th>Date</th>\n",
       "      <th></th>\n",
       "      <th></th>\n",
       "      <th></th>\n",
       "      <th></th>\n",
       "    </tr>\n",
       "  </thead>\n",
       "  <tbody>\n",
       "    <tr>\n",
       "      <th>1990-01-02</th>\n",
       "      <td>126.37</td>\n",
       "      <td>126.31</td>\n",
       "      <td>126.37</td>\n",
       "      <td>126.31</td>\n",
       "    </tr>\n",
       "    <tr>\n",
       "      <th>1990-01-03</th>\n",
       "      <td>125.30</td>\n",
       "      <td>125.24</td>\n",
       "      <td>125.30</td>\n",
       "      <td>125.24</td>\n",
       "    </tr>\n",
       "    <tr>\n",
       "      <th>1990-01-04</th>\n",
       "      <td>123.46</td>\n",
       "      <td>123.41</td>\n",
       "      <td>123.46</td>\n",
       "      <td>123.41</td>\n",
       "    </tr>\n",
       "    <tr>\n",
       "      <th>1990-01-05</th>\n",
       "      <td>124.54</td>\n",
       "      <td>124.48</td>\n",
       "      <td>124.54</td>\n",
       "      <td>124.48</td>\n",
       "    </tr>\n",
       "    <tr>\n",
       "      <th>1990-01-08</th>\n",
       "      <td>124.27</td>\n",
       "      <td>124.21</td>\n",
       "      <td>124.27</td>\n",
       "      <td>124.21</td>\n",
       "    </tr>\n",
       "  </tbody>\n",
       "</table>\n",
       "</div>"
      ],
      "text/plain": [
       "             Price    Open    High     Low\n",
       "Date                                      \n",
       "1990-01-02  126.37  126.31  126.37  126.31\n",
       "1990-01-03  125.30  125.24  125.30  125.24\n",
       "1990-01-04  123.46  123.41  123.46  123.41\n",
       "1990-01-05  124.54  124.48  124.54  124.48\n",
       "1990-01-08  124.27  124.21  124.27  124.21"
      ]
     },
     "execution_count": 19,
     "metadata": {},
     "output_type": "execute_result"
    }
   ],
   "source": [
    "# Trim the dataset to begin on January 1st, 1990\n",
    "cad_jpy_df = cad_jpy_df.loc[\"1990-01-01\":, :]\n",
    "cad_jpy_df.head()"
   ]
  },
  {
   "cell_type": "markdown",
   "metadata": {},
   "source": [
    "# Initial Time-Series Plotting"
   ]
  },
  {
   "cell_type": "markdown",
   "metadata": {},
   "source": [
    " Start by plotting the \"Settle\" price. Do you see any patterns, long-term and/or short?"
   ]
  },
  {
   "cell_type": "code",
   "execution_count": 25,
   "metadata": {},
   "outputs": [
    {
     "data": {
      "text/plain": [
       "<AxesSubplot:title={'center':'CAD/JPY Price History'}, xlabel='Date'>"
      ]
     },
     "execution_count": 25,
     "metadata": {},
     "output_type": "execute_result"
    },
    {
     "data": {
      "image/png": "[encoded data removed]",
      "text/plain": [
       "<Figure size 864x576 with 1 Axes>"
      ]
     },
     "metadata": {
      "needs_background": "light"
     },
     "output_type": "display_data"
    }
   ],
   "source": [
    "# Plot just the \"Price\" column from the dataframe:\n",
    "cad_jpy_df.Price.plot(title = 'CAD/JPY Price History', figsize = (12,8))"
   ]
  },
  {
   "cell_type": "markdown",
   "metadata": {},
   "source": [
    "**Question:** Do you see any patterns, long-term and/or short? "
   ]
  },
  {
   "cell_type": "markdown",
   "metadata": {},
   "source": [
    "**Answer:** YOUR ANSWER HERE"
   ]
  },
  {
   "cell_type": "markdown",
   "metadata": {},
   "source": [
    "---"
   ]
  },
  {
   "cell_type": "markdown",
   "metadata": {},
   "source": [
    "# Decomposition Using a Hodrick-Prescott Filter"
   ]
  },
  {
   "cell_type": "markdown",
   "metadata": {},
   "source": [
    " Using a Hodrick-Prescott Filter, decompose the exchange rate price into trend and noise."
   ]
  },
  {
   "cell_type": "code",
   "execution_count": 21,
   "metadata": {},
   "outputs": [],
   "source": [
    "import statsmodels.api as sm\n",
    "\n",
    "# Apply the Hodrick-Prescott Filter by decomposing the exchange rate price into two separate series:\n",
    "price_noise, price_trend = sm.tsa.filters.hpfilter(cad_jpy_df['Price'])"
   ]
  },
  {
   "cell_type": "code",
   "execution_count": 22,
   "metadata": {},
   "outputs": [
    {
     "data": {
      "text/html": [
       "<div>\n",
       "<style scoped>\n",
       "    .dataframe tbody tr th:only-of-type {\n",
       "        vertical-align: middle;\n",
       "    }\n",
       "\n",
       "    .dataframe tbody tr th {\n",
       "        vertical-align: top;\n",
       "    }\n",
       "\n",
       "    .dataframe thead th {\n",
       "        text-align: right;\n",
       "    }\n",
       "</style>\n",
       "<table border=\"1\" class=\"dataframe\">\n",
       "  <thead>\n",
       "    <tr style=\"text-align: right;\">\n",
       "      <th></th>\n",
       "      <th>Price</th>\n",
       "      <th>noise</th>\n",
       "      <th>trend</th>\n",
       "    </tr>\n",
       "    <tr>\n",
       "      <th>Date</th>\n",
       "      <th></th>\n",
       "      <th></th>\n",
       "      <th></th>\n",
       "    </tr>\n",
       "  </thead>\n",
       "  <tbody>\n",
       "    <tr>\n",
       "      <th>1990-01-02</th>\n",
       "      <td>126.37</td>\n",
       "      <td>0.519095</td>\n",
       "      <td>125.850905</td>\n",
       "    </tr>\n",
       "    <tr>\n",
       "      <th>1990-01-03</th>\n",
       "      <td>125.30</td>\n",
       "      <td>-0.379684</td>\n",
       "      <td>125.679684</td>\n",
       "    </tr>\n",
       "    <tr>\n",
       "      <th>1990-01-04</th>\n",
       "      <td>123.46</td>\n",
       "      <td>-2.048788</td>\n",
       "      <td>125.508788</td>\n",
       "    </tr>\n",
       "    <tr>\n",
       "      <th>1990-01-05</th>\n",
       "      <td>124.54</td>\n",
       "      <td>-0.798304</td>\n",
       "      <td>125.338304</td>\n",
       "    </tr>\n",
       "    <tr>\n",
       "      <th>1990-01-08</th>\n",
       "      <td>124.27</td>\n",
       "      <td>-0.897037</td>\n",
       "      <td>125.167037</td>\n",
       "    </tr>\n",
       "  </tbody>\n",
       "</table>\n",
       "</div>"
      ],
      "text/plain": [
       "             Price     noise       trend\n",
       "Date                                    \n",
       "1990-01-02  126.37  0.519095  125.850905\n",
       "1990-01-03  125.30 -0.379684  125.679684\n",
       "1990-01-04  123.46 -2.048788  125.508788\n",
       "1990-01-05  124.54 -0.798304  125.338304\n",
       "1990-01-08  124.27 -0.897037  125.167037"
      ]
     },
     "execution_count": 22,
     "metadata": {},
     "output_type": "execute_result"
    }
   ],
   "source": [
    "# Create a dataframe of just the exchange rate price, and add columns for \"noise\" and \"trend\" series from above:\n",
    "cad_jpy_df['noise'] = price_noise\n",
    "cad_jpy_df['trend'] = price_trend\n",
    "cad_jpy_df=cad_jpy_df.drop(['Open','High','Low'], axis = 1)\n",
    "cad_jpy_df.head()"
   ]
  },
  {
   "cell_type": "code",
   "execution_count": 27,
   "metadata": {},
   "outputs": [
    {
     "data": {
      "text/plain": [
       "<AxesSubplot:title={'center':'Exchange Rate Price vs. the Trend for 2015 to the present'}, xlabel='Date'>"
      ]
     },
     "execution_count": 27,
     "metadata": {},
     "output_type": "execute_result"
    },
    {
     "data": {
      "image/png": "[encoded data removed]",
      "text/plain": [
       "<Figure size 864x576 with 1 Axes>"
      ]
     },
     "metadata": {
      "needs_background": "light"
     },
     "output_type": "display_data"
    }
   ],
   "source": [
    "# Plot the Exchange Rate Price vs. the Trend for 2015 to the present\n",
    "cad_jpy_df_2015 = cad_jpy_df.loc[\"2015-01-01\":, :]\n",
    "cad_jpy_df_2015[['Price','trend']].plot(title = 'Exchange Rate Price vs. the Trend for 2015 to the present', figsize = (12,8))"
   ]
  },
  {
   "cell_type": "markdown",
   "metadata": {},
   "source": [
    "**Question:** Do you see any patterns, long-term and/or short?"
   ]
  },
  {
   "cell_type": "markdown",
   "metadata": {},
   "source": [
    "**Answer:** YOUR ANSWER HERE"
   ]
  },
  {
   "cell_type": "code",
   "execution_count": 29,
   "metadata": {},
   "outputs": [
    {
     "data": {
      "text/plain": [
       "<AxesSubplot:xlabel='Date'>"
      ]
     },
     "execution_count": 29,
     "metadata": {},
     "output_type": "execute_result"
    },
    {
     "data": {
      "image/png": "[encoded data removed]",
      "text/plain": [
       "<Figure size 864x360 with 1 Axes>"
      ]
     },
     "metadata": {
      "needs_background": "light"
     },
     "output_type": "display_data"
    }
   ],
   "source": [
    "# Plot the Settle Noise\n",
    "cad_jpy_df['noise'].plot(figsize=(12,5))"
   ]
  },
  {
   "cell_type": "markdown",
   "metadata": {},
   "source": [
    "---"
   ]
  },
  {
   "cell_type": "markdown",
   "metadata": {},
   "source": [
    "# Forecasting Returns using an ARMA Model"
   ]
  },
  {
   "cell_type": "markdown",
   "metadata": {},
   "source": [
    "Using exchange rate *Returns*, estimate an ARMA model\n",
    "\n",
    "1. ARMA: Create an ARMA model and fit it to the returns data. Note: Set the AR and MA (\"p\" and \"q\") parameters to p=2 and q=1: order=(2, 1).\n",
    "2. Output the ARMA summary table and take note of the p-values of the lags. Based on the p-values, is the model a good fit (p < 0.05)?\n",
    "3. Plot the 5-day forecast of the forecasted returns (the results forecast from ARMA model)"
   ]
  },
  {
   "cell_type": "code",
   "execution_count": 30,
   "metadata": {},
   "outputs": [
    {
     "data": {
      "text/html": [
       "<div>\n",
       "<style scoped>\n",
       "    .dataframe tbody tr th:only-of-type {\n",
       "        vertical-align: middle;\n",
       "    }\n",
       "\n",
       "    .dataframe tbody tr th {\n",
       "        vertical-align: top;\n",
       "    }\n",
       "\n",
       "    .dataframe thead th {\n",
       "        text-align: right;\n",
       "    }\n",
       "</style>\n",
       "<table border=\"1\" class=\"dataframe\">\n",
       "  <thead>\n",
       "    <tr style=\"text-align: right;\">\n",
       "      <th></th>\n",
       "      <th>Price</th>\n",
       "    </tr>\n",
       "    <tr>\n",
       "      <th>Date</th>\n",
       "      <th></th>\n",
       "    </tr>\n",
       "  </thead>\n",
       "  <tbody>\n",
       "    <tr>\n",
       "      <th>2020-05-29</th>\n",
       "      <td>0.076697</td>\n",
       "    </tr>\n",
       "    <tr>\n",
       "      <th>2020-06-01</th>\n",
       "      <td>1.251756</td>\n",
       "    </tr>\n",
       "    <tr>\n",
       "      <th>2020-06-02</th>\n",
       "      <td>1.425508</td>\n",
       "    </tr>\n",
       "    <tr>\n",
       "      <th>2020-06-03</th>\n",
       "      <td>0.373134</td>\n",
       "    </tr>\n",
       "    <tr>\n",
       "      <th>2020-06-04</th>\n",
       "      <td>0.012392</td>\n",
       "    </tr>\n",
       "  </tbody>\n",
       "</table>\n",
       "</div>"
      ],
      "text/plain": [
       "               Price\n",
       "Date                \n",
       "2020-05-29  0.076697\n",
       "2020-06-01  1.251756\n",
       "2020-06-02  1.425508\n",
       "2020-06-03  0.373134\n",
       "2020-06-04  0.012392"
      ]
     },
     "execution_count": 30,
     "metadata": {},
     "output_type": "execute_result"
    }
   ],
   "source": [
    "# Create a series using \"Price\" percentage returns, drop any nan\"s, and check the results:\n",
    "# (Make sure to multiply the pct_change() results by 100)\n",
    "# In this case, you may have to replace inf, -inf values with np.nan\"s\n",
    "returns = (cad_jpy_df[[\"Price\"]].pct_change() * 100)\n",
    "returns = returns.replace(-np.inf, np.nan).dropna()\n",
    "returns.tail()"
   ]
  },
  {
   "cell_type": "code",
   "execution_count": 36,
   "metadata": {},
   "outputs": [],
   "source": [
    "import statsmodels.api as sm\n",
    "\n",
    "# Estimate and ARMA model using statsmodels (use order=(2, 1))\n",
    "from statsmodels.tsa.arima_model import ARMA\n",
    "ARMA_model = ARMA(returns.values, order=(2,1))\n",
    "\n",
    "# Fit the model and assign it to a variable called results\n",
    "ARMA_results = ARMA_model.fit()"
   ]
  },
  {
   "cell_type": "code",
   "execution_count": 37,
   "metadata": {},
   "outputs": [
    {
     "data": {
      "text/html": [
       "<table class=\"simpletable\">\n",
       "<caption>ARMA Model Results</caption>\n",
       "<tr>\n",
       "  <th>Dep. Variable:</th>         <td>y</td>        <th>  No. Observations:  </th>   <td>7928</td>   \n",
       "</tr>\n",
       "<tr>\n",
       "  <th>Model:</th>            <td>ARMA(2, 1)</td>    <th>  Log Likelihood     </th> <td>-9751.978</td>\n",
       "</tr>\n",
       "<tr>\n",
       "  <th>Method:</th>             <td>css-mle</td>     <th>  S.D. of innovations</th>   <td>0.828</td>  \n",
       "</tr>\n",
       "<tr>\n",
       "  <th>Date:</th>          <td>Sat, 11 Sep 2021</td> <th>  AIC                </th> <td>19513.955</td>\n",
       "</tr>\n",
       "<tr>\n",
       "  <th>Time:</th>              <td>13:02:00</td>     <th>  BIC                </th> <td>19548.846</td>\n",
       "</tr>\n",
       "<tr>\n",
       "  <th>Sample:</th>                <td>0</td>        <th>  HQIC               </th> <td>19525.903</td>\n",
       "</tr>\n",
       "<tr>\n",
       "  <th></th>                       <td> </td>        <th>                     </th>     <td> </td>    \n",
       "</tr>\n",
       "</table>\n",
       "<table class=\"simpletable\">\n",
       "<tr>\n",
       "     <td></td>        <th>coef</th>     <th>std err</th>      <th>z</th>      <th>P>|z|</th>  <th>[0.025</th>    <th>0.975]</th>  \n",
       "</tr>\n",
       "<tr>\n",
       "  <th>const</th>   <td>   -0.0022</td> <td>    0.009</td> <td>   -0.245</td> <td> 0.807</td> <td>   -0.020</td> <td>    0.016</td>\n",
       "</tr>\n",
       "<tr>\n",
       "  <th>ar.L1.y</th> <td>   -0.8547</td> <td>    0.164</td> <td>   -5.200</td> <td> 0.000</td> <td>   -1.177</td> <td>   -0.533</td>\n",
       "</tr>\n",
       "<tr>\n",
       "  <th>ar.L2.y</th> <td>   -0.0197</td> <td>    0.013</td> <td>   -1.475</td> <td> 0.140</td> <td>   -0.046</td> <td>    0.006</td>\n",
       "</tr>\n",
       "<tr>\n",
       "  <th>ma.L1.y</th> <td>    0.8246</td> <td>    0.164</td> <td>    5.030</td> <td> 0.000</td> <td>    0.503</td> <td>    1.146</td>\n",
       "</tr>\n",
       "</table>\n",
       "<table class=\"simpletable\">\n",
       "<caption>Roots</caption>\n",
       "<tr>\n",
       "    <td></td>   <th>            Real</th>  <th>         Imaginary</th> <th>         Modulus</th>  <th>        Frequency</th>\n",
       "</tr>\n",
       "<tr>\n",
       "  <th>AR.1</th> <td>          -1.2033</td> <td>          +0.0000j</td> <td>           1.2033</td> <td>           0.5000</td>\n",
       "</tr>\n",
       "<tr>\n",
       "  <th>AR.2</th> <td>         -42.1704</td> <td>          +0.0000j</td> <td>          42.1704</td> <td>           0.5000</td>\n",
       "</tr>\n",
       "<tr>\n",
       "  <th>MA.1</th> <td>          -1.2127</td> <td>          +0.0000j</td> <td>           1.2127</td> <td>           0.5000</td>\n",
       "</tr>\n",
       "</table>"
      ],
      "text/plain": [
       "<class 'statsmodels.iolib.summary.Summary'>\n",
       "\"\"\"\n",
       "                              ARMA Model Results                              \n",
       "==============================================================================\n",
       "Dep. Variable:                      y   No. Observations:                 7928\n",
       "Model:                     ARMA(2, 1)   Log Likelihood               -9751.978\n",
       "Method:                       css-mle   S.D. of innovations              0.828\n",
       "Date:                Sat, 11 Sep 2021   AIC                          19513.955\n",
       "Time:                        13:02:00   BIC                          19548.846\n",
       "Sample:                             0   HQIC                         19525.903\n",
       "                                                                              \n",
       "==============================================================================\n",
       "                 coef    std err          z      P>|z|      [0.025      0.975]\n",
       "------------------------------------------------------------------------------\n",
       "const         -0.0022      0.009     -0.245      0.807      -0.020       0.016\n",
       "ar.L1.y       -0.8547      0.164     -5.200      0.000      -1.177      -0.533\n",
       "ar.L2.y       -0.0197      0.013     -1.475      0.140      -0.046       0.006\n",
       "ma.L1.y        0.8246      0.164      5.030      0.000       0.503       1.146\n",
       "                                    Roots                                    \n",
       "=============================================================================\n",
       "                  Real          Imaginary           Modulus         Frequency\n",
       "-----------------------------------------------------------------------------\n",
       "AR.1           -1.2033           +0.0000j            1.2033            0.5000\n",
       "AR.2          -42.1704           +0.0000j           42.1704            0.5000\n",
       "MA.1           -1.2127           +0.0000j            1.2127            0.5000\n",
       "-----------------------------------------------------------------------------\n",
       "\"\"\""
      ]
     },
     "execution_count": 37,
     "metadata": {},
     "output_type": "execute_result"
    }
   ],
   "source": [
    "# Output model summary results:\n",
    "ARMA_results.summary()"
   ]
  },
  {
   "cell_type": "code",
   "execution_count": 38,
   "metadata": {},
   "outputs": [
    {
     "data": {
      "text/plain": [
       "<AxesSubplot:title={'center':'5 Day Returns Forecast'}>"
      ]
     },
     "execution_count": 38,
     "metadata": {},
     "output_type": "execute_result"
    },
    {
     "data": {
      "image/png": "[encoded data removed]",
      "text/plain": [
       "<Figure size 432x288 with 1 Axes>"
      ]
     },
     "metadata": {
      "needs_background": "light"
     },
     "output_type": "display_data"
    }
   ],
   "source": [
    "# Plot the 5 Day Returns Forecast\n",
    "pd.DataFrame(ARMA_results.forecast(steps=5)[0]).plot(title=\"5 Day Returns Forecast\")"
   ]
  },
  {
   "cell_type": "markdown",
   "metadata": {},
   "source": [
    "**Question:** Based on the p-value, is the model a good fit?\n",
    "\n",
    "**Answer:** With the highest P value being .805, and being greater than .05, this model is not statistaclly significant and is not a good fit."
   ]
  },
  {
   "cell_type": "markdown",
   "metadata": {},
   "source": [
    "---"
   ]
  },
  {
   "cell_type": "markdown",
   "metadata": {},
   "source": [
    "# Forecasting the Exchange Rate Price using an ARIMA Model"
   ]
  },
  {
   "cell_type": "markdown",
   "metadata": {},
   "source": [
    " 1. Using the *raw* CAD/JPY exchange rate price, estimate an ARIMA model.\n",
    "     1. Set P=5, D=1, and Q=1 in the model (e.g., ARIMA(df, order=(5,1,1))\n",
    "     2. P= # of Auto-Regressive Lags, D= # of Differences (this is usually =1), Q= # of Moving Average Lags\n",
    " 2. Output the ARIMA summary table and take note of the p-values of the lags. Based on the p-values, is the model a good fit (p < 0.05)?\n",
    " 3. Plot a 5 day forecast for the Exchange Rate Price. What does the model forecast predict will happen to the Japanese Yen in the near term?"
   ]
  },
  {
   "cell_type": "code",
   "execution_count": 39,
   "metadata": {},
   "outputs": [],
   "source": [
    "from statsmodels.tsa.arima_model import ARIMA\n",
    "\n",
    "# Estimate and ARIMA Model:\n",
    "# Hint: ARIMA(df, order=(p, d, q))\n",
    "ARIMA_model = ARIMA(cad_jpy_df['Price'], order=(5, 1, 1))\n",
    "\n",
    "# Fit the model\n",
    "ARIMA_results = ARIMA_model.fit()"
   ]
  },
  {
   "cell_type": "code",
   "execution_count": 40,
   "metadata": {},
   "outputs": [
    {
     "data": {
      "text/html": [
       "<table class=\"simpletable\">\n",
       "<caption>ARIMA Model Results</caption>\n",
       "<tr>\n",
       "  <th>Dep. Variable:</th>      <td>D.Price</td>     <th>  No. Observations:  </th>   <td>7928</td>   \n",
       "</tr>\n",
       "<tr>\n",
       "  <th>Model:</th>          <td>ARIMA(5, 1, 1)</td>  <th>  Log Likelihood     </th> <td>-8745.622</td>\n",
       "</tr>\n",
       "<tr>\n",
       "  <th>Method:</th>             <td>css-mle</td>     <th>  S.D. of innovations</th>   <td>0.729</td>  \n",
       "</tr>\n",
       "<tr>\n",
       "  <th>Date:</th>          <td>Sat, 11 Sep 2021</td> <th>  AIC                </th> <td>17507.244</td>\n",
       "</tr>\n",
       "<tr>\n",
       "  <th>Time:</th>              <td>13:02:18</td>     <th>  BIC                </th> <td>17563.070</td>\n",
       "</tr>\n",
       "<tr>\n",
       "  <th>Sample:</th>                <td>1</td>        <th>  HQIC               </th> <td>17526.361</td>\n",
       "</tr>\n",
       "<tr>\n",
       "  <th></th>                       <td> </td>        <th>                     </th>     <td> </td>    \n",
       "</tr>\n",
       "</table>\n",
       "<table class=\"simpletable\">\n",
       "<tr>\n",
       "        <td></td>           <th>coef</th>     <th>std err</th>      <th>z</th>      <th>P>|z|</th>  <th>[0.025</th>    <th>0.975]</th>  \n",
       "</tr>\n",
       "<tr>\n",
       "  <th>const</th>         <td>   -0.0058</td> <td>    0.008</td> <td>   -0.743</td> <td> 0.458</td> <td>   -0.021</td> <td>    0.009</td>\n",
       "</tr>\n",
       "<tr>\n",
       "  <th>ar.L1.D.Price</th> <td>    0.4287</td> <td>    0.246</td> <td>    1.740</td> <td> 0.082</td> <td>   -0.054</td> <td>    0.912</td>\n",
       "</tr>\n",
       "<tr>\n",
       "  <th>ar.L2.D.Price</th> <td>    0.0177</td> <td>    0.014</td> <td>    1.264</td> <td> 0.206</td> <td>   -0.010</td> <td>    0.045</td>\n",
       "</tr>\n",
       "<tr>\n",
       "  <th>ar.L3.D.Price</th> <td>   -0.0118</td> <td>    0.012</td> <td>   -0.959</td> <td> 0.337</td> <td>   -0.036</td> <td>    0.012</td>\n",
       "</tr>\n",
       "<tr>\n",
       "  <th>ar.L4.D.Price</th> <td>    0.0110</td> <td>    0.012</td> <td>    0.879</td> <td> 0.379</td> <td>   -0.013</td> <td>    0.035</td>\n",
       "</tr>\n",
       "<tr>\n",
       "  <th>ar.L5.D.Price</th> <td>   -0.0191</td> <td>    0.011</td> <td>   -1.702</td> <td> 0.089</td> <td>   -0.041</td> <td>    0.003</td>\n",
       "</tr>\n",
       "<tr>\n",
       "  <th>ma.L1.D.Price</th> <td>   -0.4568</td> <td>    0.246</td> <td>   -1.856</td> <td> 0.064</td> <td>   -0.939</td> <td>    0.026</td>\n",
       "</tr>\n",
       "</table>\n",
       "<table class=\"simpletable\">\n",
       "<caption>Roots</caption>\n",
       "<tr>\n",
       "    <td></td>   <th>            Real</th>  <th>         Imaginary</th> <th>         Modulus</th>  <th>        Frequency</th>\n",
       "</tr>\n",
       "<tr>\n",
       "  <th>AR.1</th> <td>           1.7660</td> <td>          -0.7702j</td> <td>           1.9266</td> <td>          -0.0655</td>\n",
       "</tr>\n",
       "<tr>\n",
       "  <th>AR.2</th> <td>           1.7660</td> <td>          +0.7702j</td> <td>           1.9266</td> <td>           0.0655</td>\n",
       "</tr>\n",
       "<tr>\n",
       "  <th>AR.3</th> <td>          -2.3649</td> <td>          -0.0000j</td> <td>           2.3649</td> <td>          -0.5000</td>\n",
       "</tr>\n",
       "<tr>\n",
       "  <th>AR.4</th> <td>          -0.2974</td> <td>          -2.4212j</td> <td>           2.4394</td> <td>          -0.2695</td>\n",
       "</tr>\n",
       "<tr>\n",
       "  <th>AR.5</th> <td>          -0.2974</td> <td>          +2.4212j</td> <td>           2.4394</td> <td>           0.2695</td>\n",
       "</tr>\n",
       "<tr>\n",
       "  <th>MA.1</th> <td>           2.1893</td> <td>          +0.0000j</td> <td>           2.1893</td> <td>           0.0000</td>\n",
       "</tr>\n",
       "</table>"
      ],
      "text/plain": [
       "<class 'statsmodels.iolib.summary.Summary'>\n",
       "\"\"\"\n",
       "                             ARIMA Model Results                              \n",
       "==============================================================================\n",
       "Dep. Variable:                D.Price   No. Observations:                 7928\n",
       "Model:                 ARIMA(5, 1, 1)   Log Likelihood               -8745.622\n",
       "Method:                       css-mle   S.D. of innovations              0.729\n",
       "Date:                Sat, 11 Sep 2021   AIC                          17507.244\n",
       "Time:                        13:02:18   BIC                          17563.070\n",
       "Sample:                             1   HQIC                         17526.361\n",
       "                                                                              \n",
       "=================================================================================\n",
       "                    coef    std err          z      P>|z|      [0.025      0.975]\n",
       "---------------------------------------------------------------------------------\n",
       "const            -0.0058      0.008     -0.743      0.458      -0.021       0.009\n",
       "ar.L1.D.Price     0.4287      0.246      1.740      0.082      -0.054       0.912\n",
       "ar.L2.D.Price     0.0177      0.014      1.264      0.206      -0.010       0.045\n",
       "ar.L3.D.Price    -0.0118      0.012     -0.959      0.337      -0.036       0.012\n",
       "ar.L4.D.Price     0.0110      0.012      0.879      0.379      -0.013       0.035\n",
       "ar.L5.D.Price    -0.0191      0.011     -1.702      0.089      -0.041       0.003\n",
       "ma.L1.D.Price    -0.4568      0.246     -1.856      0.064      -0.939       0.026\n",
       "                                    Roots                                    \n",
       "=============================================================================\n",
       "                  Real          Imaginary           Modulus         Frequency\n",
       "-----------------------------------------------------------------------------\n",
       "AR.1            1.7660           -0.7702j            1.9266           -0.0655\n",
       "AR.2            1.7660           +0.7702j            1.9266            0.0655\n",
       "AR.3           -2.3649           -0.0000j            2.3649           -0.5000\n",
       "AR.4           -0.2974           -2.4212j            2.4394           -0.2695\n",
       "AR.5           -0.2974           +2.4212j            2.4394            0.2695\n",
       "MA.1            2.1893           +0.0000j            2.1893            0.0000\n",
       "-----------------------------------------------------------------------------\n",
       "\"\"\""
      ]
     },
     "execution_count": 40,
     "metadata": {},
     "output_type": "execute_result"
    }
   ],
   "source": [
    "# Output model summary results:\n",
    "ARIMA_results.summary()"
   ]
  },
  {
   "cell_type": "code",
   "execution_count": 42,
   "metadata": {},
   "outputs": [
    {
     "data": {
      "text/plain": [
       "<AxesSubplot:title={'center':'5 Day Futures Price Forecast'}>"
      ]
     },
     "execution_count": 42,
     "metadata": {},
     "output_type": "execute_result"
    },
    {
     "data": {
      "image/png": "[encoded data removed]",
      "text/plain": [
       "<Figure size 432x288 with 1 Axes>"
      ]
     },
     "metadata": {
      "needs_background": "light"
     },
     "output_type": "display_data"
    }
   ],
   "source": [
    "# Plot the 5 Day Price Forecast\n",
    "pd.DataFrame(ARIMA_results.forecast(steps=5)[0]).plot(title=\"5 Day Futures Price Forecast\")"
   ]
  },
  {
   "cell_type": "markdown",
   "metadata": {},
   "source": [
    "**Question:** What does the model forecast will happen to the Japanese Yen in the near term?\n",
    "\n",
    "**Answer:** The model forcasts a decrease in value of the Japanese yen. Though due to the P vakue not being below .05, we may need to reconsider the staistical signifacance of this model. "
   ]
  },
  {
   "cell_type": "markdown",
   "metadata": {},
   "source": [
    "---"
   ]
  },
  {
   "cell_type": "markdown",
   "metadata": {},
   "source": [
    "# Volatility Forecasting with GARCH\n",
    "\n",
    "Rather than predicting returns, let's forecast near-term **volatility** of Japanese Yen exchange rate returns. Being able to accurately predict volatility will be extremely useful if we want to trade in derivatives or quantify our maximum loss.\n",
    " \n",
    "Using exchange rate *Returns*, estimate a GARCH model. **Hint:** You can reuse the `returns` variable from the ARMA model section.\n",
    "\n",
    "1. GARCH: Create an GARCH model and fit it to the returns data. Note: Set the parameters to p=2 and q=1: order=(2, 1).\n",
    "2. Output the GARCH summary table and take note of the p-values of the lags. Based on the p-values, is the model a good fit (p < 0.05)?\n",
    "3. Plot the 5-day forecast of the volatility."
   ]
  },
  {
   "cell_type": "code",
   "execution_count": 30,
   "metadata": {},
   "outputs": [],
   "source": [
    "import arch as arch"
   ]
  },
  {
   "cell_type": "code",
   "execution_count": 44,
   "metadata": {},
   "outputs": [
    {
     "name": "stdout",
     "output_type": "stream",
     "text": [
      "Iteration:      1,   Func. Count:      6,   Neg. LLF: 46548.40924082976\n",
      "Iteration:      2,   Func. Count:     16,   Neg. LLF: 306850859.3384427\n",
      "Iteration:      3,   Func. Count:     22,   Neg. LLF: 8928.838861417698\n",
      "Iteration:      4,   Func. Count:     27,   Neg. LLF: 11771.663036006626\n",
      "Iteration:      5,   Func. Count:     33,   Neg. LLF: 10426.31072801688\n",
      "Iteration:      6,   Func. Count:     41,   Neg. LLF: 8916.369930732108\n",
      "Iteration:      7,   Func. Count:     47,   Neg. LLF: 8911.112105819691\n",
      "Iteration:      8,   Func. Count:     52,   Neg. LLF: 8911.027322298947\n",
      "Iteration:      9,   Func. Count:     57,   Neg. LLF: 8911.022077988246\n",
      "Iteration:     10,   Func. Count:     62,   Neg. LLF: 8911.021067661106\n",
      "Iteration:     11,   Func. Count:     67,   Neg. LLF: 8911.020797453917\n",
      "Iteration:     12,   Func. Count:     72,   Neg. LLF: 8911.020764880363\n",
      "Iteration:     13,   Func. Count:     76,   Neg. LLF: 8911.020764882265\n",
      "Optimization terminated successfully    (Exit mode 0)\n",
      "            Current function value: 8911.020764880363\n",
      "            Iterations: 13\n",
      "            Function evaluations: 76\n",
      "            Gradient evaluations: 13\n"
     ]
    }
   ],
   "source": [
    "# Estimate a GARCH model:\n",
    "from arch import arch_model\n",
    "GARCH_model = arch_model(returns, mean=\"Zero\", vol=\"GARCH\", p=2, q=1)\n",
    "\n",
    "# Fit the model\n",
    "GARCH_results = GARCH_model.fit()"
   ]
  },
  {
   "cell_type": "code",
   "execution_count": 45,
   "metadata": {},
   "outputs": [
    {
     "data": {
      "text/html": [
       "<table class=\"simpletable\">\n",
       "<caption>Zero Mean - GARCH Model Results</caption>\n",
       "<tr>\n",
       "  <th>Dep. Variable:</th>        <td>Price</td>       <th>  R-squared:         </th>  <td>   0.000</td> \n",
       "</tr>\n",
       "<tr>\n",
       "  <th>Mean Model:</th>         <td>Zero Mean</td>     <th>  Adj. R-squared:    </th>  <td>   0.000</td> \n",
       "</tr>\n",
       "<tr>\n",
       "  <th>Vol Model:</th>            <td>GARCH</td>       <th>  Log-Likelihood:    </th> <td>  -8911.02</td>\n",
       "</tr>\n",
       "<tr>\n",
       "  <th>Distribution:</th>        <td>Normal</td>       <th>  AIC:               </th> <td>   17830.0</td>\n",
       "</tr>\n",
       "<tr>\n",
       "  <th>Method:</th>        <td>Maximum Likelihood</td> <th>  BIC:               </th> <td>   17858.0</td>\n",
       "</tr>\n",
       "<tr>\n",
       "  <th></th>                        <td></td>          <th>  No. Observations:  </th>    <td>7928</td>   \n",
       "</tr>\n",
       "<tr>\n",
       "  <th>Date:</th>           <td>Sat, Sep 11 2021</td>  <th>  Df Residuals:      </th>    <td>7928</td>   \n",
       "</tr>\n",
       "<tr>\n",
       "  <th>Time:</th>               <td>13:12:44</td>      <th>  Df Model:          </th>      <td>0</td>    \n",
       "</tr>\n",
       "</table>\n",
       "<table class=\"simpletable\">\n",
       "<caption>Volatility Model</caption>\n",
       "<tr>\n",
       "      <td></td>        <th>coef</th>     <th>std err</th>      <th>t</th>       <th>P>|t|</th>      <th>95.0% Conf. Int.</th>   \n",
       "</tr>\n",
       "<tr>\n",
       "  <th>omega</th>    <td>9.0733e-03</td> <td>2.545e-03</td> <td>    3.566</td> <td>3.628e-04</td>  <td>[4.086e-03,1.406e-02]</td>\n",
       "</tr>\n",
       "<tr>\n",
       "  <th>alpha[1]</th> <td>    0.0624</td> <td>1.835e-02</td> <td>    3.402</td> <td>6.682e-04</td>  <td>[2.647e-02,9.841e-02]</td>\n",
       "</tr>\n",
       "<tr>\n",
       "  <th>alpha[2]</th>   <td>0.0000</td>   <td>2.010e-02</td>   <td>0.000</td>   <td>    1.000</td> <td>[-3.940e-02,3.940e-02]</td>\n",
       "</tr>\n",
       "<tr>\n",
       "  <th>beta[1]</th>  <td>    0.9243</td> <td>1.229e-02</td> <td>   75.205</td>   <td>0.000</td>      <td>[  0.900,  0.948]</td>  \n",
       "</tr>\n",
       "</table><br/><br/>Covariance estimator: robust"
      ],
      "text/plain": [
       "<class 'statsmodels.iolib.summary.Summary'>\n",
       "\"\"\"\n",
       "                       Zero Mean - GARCH Model Results                        \n",
       "==============================================================================\n",
       "Dep. Variable:                  Price   R-squared:                       0.000\n",
       "Mean Model:                 Zero Mean   Adj. R-squared:                  0.000\n",
       "Vol Model:                      GARCH   Log-Likelihood:               -8911.02\n",
       "Distribution:                  Normal   AIC:                           17830.0\n",
       "Method:            Maximum Likelihood   BIC:                           17858.0\n",
       "                                        No. Observations:                 7928\n",
       "Date:                Sat, Sep 11 2021   Df Residuals:                     7928\n",
       "Time:                        13:12:44   Df Model:                            0\n",
       "                               Volatility Model                              \n",
       "=============================================================================\n",
       "                 coef    std err          t      P>|t|       95.0% Conf. Int.\n",
       "-----------------------------------------------------------------------------\n",
       "omega      9.0733e-03  2.545e-03      3.566  3.628e-04  [4.086e-03,1.406e-02]\n",
       "alpha[1]       0.0624  1.835e-02      3.402  6.682e-04  [2.647e-02,9.841e-02]\n",
       "alpha[2]       0.0000  2.010e-02      0.000      1.000 [-3.940e-02,3.940e-02]\n",
       "beta[1]        0.9243  1.229e-02     75.205      0.000      [  0.900,  0.948]\n",
       "=============================================================================\n",
       "\n",
       "Covariance estimator: robust\n",
       "\"\"\""
      ]
     },
     "execution_count": 45,
     "metadata": {},
     "output_type": "execute_result"
    }
   ],
   "source": [
    "# Summarize the model results\n",
    "GARCH_results.summary()"
   ]
  },
  {
   "cell_type": "markdown",
   "metadata": {},
   "source": [
    "**Note:** Our p-values for GARCH and volatility forecasts tend to be much lower than our ARMA/ARIMA return and price forecasts. In particular, here we have all p-values of less than 0.05, except for alpha(2), indicating overall a much better model performance. In practice, in financial markets, it's easier to forecast volatility than it is to forecast returns or prices. (After all, if we could very easily predict returns, we'd all be rich!)"
   ]
  },
  {
   "cell_type": "code",
   "execution_count": 46,
   "metadata": {},
   "outputs": [
    {
     "data": {
      "text/plain": [
       "'2020-06-04'"
      ]
     },
     "execution_count": 46,
     "metadata": {},
     "output_type": "execute_result"
    }
   ],
   "source": [
    "# Find the last day of the dataset\n",
    "last_day = returns.index.max().strftime('%Y-%m-%d')\n",
    "last_day"
   ]
  },
  {
   "cell_type": "code",
   "execution_count": 47,
   "metadata": {},
   "outputs": [
    {
     "data": {
      "text/plain": [
       "<arch.univariate.base.ARCHModelForecast at 0x26a0655b188>"
      ]
     },
     "execution_count": 47,
     "metadata": {},
     "output_type": "execute_result"
    }
   ],
   "source": [
    "# Create a 5 day forecast of volatility\n",
    "forecast_horizon = 5\n",
    "\n",
    "# Start the forecast using the last_day calculated above\n",
    "forecasts = GARCH_results.forecast(start=last_day, horizon=forecast_horizon)\n",
    "forecasts"
   ]
  },
  {
   "cell_type": "code",
   "execution_count": 48,
   "metadata": {},
   "outputs": [
    {
     "data": {
      "text/html": [
       "<div>\n",
       "<style scoped>\n",
       "    .dataframe tbody tr th:only-of-type {\n",
       "        vertical-align: middle;\n",
       "    }\n",
       "\n",
       "    .dataframe tbody tr th {\n",
       "        vertical-align: top;\n",
       "    }\n",
       "\n",
       "    .dataframe thead th {\n",
       "        text-align: right;\n",
       "    }\n",
       "</style>\n",
       "<table border=\"1\" class=\"dataframe\">\n",
       "  <thead>\n",
       "    <tr style=\"text-align: right;\">\n",
       "      <th></th>\n",
       "      <th>h.1</th>\n",
       "      <th>h.2</th>\n",
       "      <th>h.3</th>\n",
       "      <th>h.4</th>\n",
       "      <th>h.5</th>\n",
       "    </tr>\n",
       "    <tr>\n",
       "      <th>Date</th>\n",
       "      <th></th>\n",
       "      <th></th>\n",
       "      <th></th>\n",
       "      <th></th>\n",
       "      <th></th>\n",
       "    </tr>\n",
       "  </thead>\n",
       "  <tbody>\n",
       "    <tr>\n",
       "      <th>2020-06-04</th>\n",
       "      <td>12.566029</td>\n",
       "      <td>12.573718</td>\n",
       "      <td>12.581301</td>\n",
       "      <td>12.588778</td>\n",
       "      <td>12.596153</td>\n",
       "    </tr>\n",
       "  </tbody>\n",
       "</table>\n",
       "</div>"
      ],
      "text/plain": [
       "                  h.1        h.2        h.3        h.4        h.5\n",
       "Date                                                             \n",
       "2020-06-04  12.566029  12.573718  12.581301  12.588778  12.596153"
      ]
     },
     "execution_count": 48,
     "metadata": {},
     "output_type": "execute_result"
    }
   ],
   "source": [
    "# Annualize the forecast\n",
    "intermediate = np.sqrt(forecasts.variance.dropna() * 252)\n",
    "intermediate.head()"
   ]
  },
  {
   "cell_type": "code",
   "execution_count": 49,
   "metadata": {},
   "outputs": [
    {
     "data": {
      "text/html": [
       "<div>\n",
       "<style scoped>\n",
       "    .dataframe tbody tr th:only-of-type {\n",
       "        vertical-align: middle;\n",
       "    }\n",
       "\n",
       "    .dataframe tbody tr th {\n",
       "        vertical-align: top;\n",
       "    }\n",
       "\n",
       "    .dataframe thead th {\n",
       "        text-align: right;\n",
       "    }\n",
       "</style>\n",
       "<table border=\"1\" class=\"dataframe\">\n",
       "  <thead>\n",
       "    <tr style=\"text-align: right;\">\n",
       "      <th>Date</th>\n",
       "      <th>2020-06-04</th>\n",
       "    </tr>\n",
       "  </thead>\n",
       "  <tbody>\n",
       "    <tr>\n",
       "      <th>h.1</th>\n",
       "      <td>12.566029</td>\n",
       "    </tr>\n",
       "    <tr>\n",
       "      <th>h.2</th>\n",
       "      <td>12.573718</td>\n",
       "    </tr>\n",
       "    <tr>\n",
       "      <th>h.3</th>\n",
       "      <td>12.581301</td>\n",
       "    </tr>\n",
       "    <tr>\n",
       "      <th>h.4</th>\n",
       "      <td>12.588778</td>\n",
       "    </tr>\n",
       "    <tr>\n",
       "      <th>h.5</th>\n",
       "      <td>12.596153</td>\n",
       "    </tr>\n",
       "  </tbody>\n",
       "</table>\n",
       "</div>"
      ],
      "text/plain": [
       "Date  2020-06-04\n",
       "h.1    12.566029\n",
       "h.2    12.573718\n",
       "h.3    12.581301\n",
       "h.4    12.588778\n",
       "h.5    12.596153"
      ]
     },
     "execution_count": 49,
     "metadata": {},
     "output_type": "execute_result"
    }
   ],
   "source": [
    "# Transpose the forecast so that it is easier to plot\n",
    "final_forecast = intermediate.dropna().T\n",
    "final_forecast.head()"
   ]
  },
  {
   "cell_type": "code",
   "execution_count": 51,
   "metadata": {},
   "outputs": [
    {
     "data": {
      "text/plain": [
       "<AxesSubplot:title={'center':'5 Day Forecast of Volatility'}>"
      ]
     },
     "execution_count": 51,
     "metadata": {},
     "output_type": "execute_result"
    },
    {
     "data": {
      "image/png": "[encoded data removed]",
      "text/plain": [
       "<Figure size 432x288 with 1 Axes>"
      ]
     },
     "metadata": {
      "needs_background": "light"
     },
     "output_type": "display_data"
    }
   ],
   "source": [
    "# Plot the final forecast\n",
    "final_forecast.plot(title='5 Day Forecast of Volatility')"
   ]
  },
  {
   "cell_type": "markdown",
   "metadata": {},
   "source": [
    "**Question:** What does the model forecast will happen to volatility in the near term?\n",
    "\n",
    "**Answer:** Based on the model/graph above, we would anticipatethe volatility to increase over the next 5 days."
   ]
  },
  {
   "cell_type": "markdown",
   "metadata": {},
   "source": [
    "---"
   ]
  },
  {
   "cell_type": "markdown",
   "metadata": {},
   "source": [
    "# Conclusions"
   ]
  },
  {
   "cell_type": "markdown",
   "metadata": {},
   "source": [
    "1. Based on your time series analysis, would you buy the yen now?\n",
    "    * Due to both the results and the statistical signifcance of the model, no.\n",
    "    "
   ]
  },
  {
   "cell_type": "markdown",
   "metadata": {},
   "source": [
    "2. Is the risk of the yen expected to increase or decrease?\n",
    "    * The risk/volatily is expected to increase\n",
    "   "
   ]
  },
  {
   "cell_type": "markdown",
   "metadata": {},
   "source": [
    "3. Based on the model evaluation, would you feel confident in using these models for trading?\n",
    "    * No, the models P value not being below .05 would mean we need to either change or recreate the models. "
   ]
  },
  {
   "cell_type": "code",
   "execution_count": null,
   "metadata": {},
   "outputs": [],
   "source": []
  }
 ],
 "metadata": {
  "file_extension": ".py",
  "kernelspec": {
   "display_name": "Python 3",
   "language": "python",
   "name": "python3"
  },
  "language_info": {
   "codemirror_mode": {
    "name": "ipython",
    "version": 3
   },
   "file_extension": ".py",
   "mimetype": "text/x-python",
   "name": "python",
   "nbconvert_exporter": "python",
   "pygments_lexer": "ipython3",
   "version": "3.7.10"
  },
  "mimetype": "text/x-python",
  "name": "python",
  "npconvert_exporter": "python",
  "pygments_lexer": "ipython3",
  "version": 3
 },
 "nbformat": 4,
 "nbformat_minor": 4
}
